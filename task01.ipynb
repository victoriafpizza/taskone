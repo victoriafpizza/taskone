{
 "cells": [
  {
   "cell_type": "markdown",
   "metadata": {},
   "source": [
    "*Task 01 - Dynamic Programming 20/03\n",
    "\n",
    "Name: Victoria Franceschini Pizza rm550609 2ESPG"
   ]
  },
  {
   "cell_type": "code",
   "execution_count": null,
   "metadata": {
    "vscode": {
     "languageId": "plaintext"
    }
   },
   "outputs": [],
   "source": [
    "import pandas as pd\n",
    "\n",
    "# Lendo o arquivo CSV e carregando os dados em um DataFrame\n",
    "df_filmes = pd.read_csv('netflix_titles.csv')\n",
    "\n",
    "# Verificando as primeiras linhas do DataFrame para garantir que os dados foram carregados corretamente\n",
    "print(df_filmes.head())\n",
    "\n",
    "# Gerando uma lista com os países dos filmes\n",
    "lista_paises = df_filmes['country'].value_counts()\n",
    "\n",
    "# Exibindo a lista de países\n",
    "print(lista_paises)"
   ]
  }
 ],
 "metadata": {
  "language_info": {
   "name": "python"
  }
 },
 "nbformat": 4,
 "nbformat_minor": 2
}
