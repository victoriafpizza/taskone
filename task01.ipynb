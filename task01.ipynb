{
 "cells": [
  {
   "cell_type": "markdown",
   "metadata": {},
   "source": [
    "*Task 01 - Dynamic Programming 20/03\n",
    "\n",
    "Name: Victoria Franceschini Pizza rm550609 2ESPG"
   ]
  },
  {
   "cell_type": "code",
   "execution_count": null,
   "metadata": {
    "vscode": {
     "languageId": "plaintext"
    }
   },
   "outputs": [],
   "source": [
    "import pandas as pd\n",
    "\n",
    "# Criando uma função para contar os caracteres no campo \"Director\"\n",
    "def contar_caracteres(diretor):\n",
    "    return len(diretor)\n",
    "\n",
    "# Lendo o arquivo CSV e carregando os dados em um DataFrame\n",
    "df_filmes = pd.read_csv('netflix_titles.csv')\n",
    "\n",
    "# Ordenando os dados pela coluna \"data_added\"\n",
    "df_ordenado_por_data = df_filmes.sort_values(by='data_added')\n",
    "\n",
    "# Ordenando os dados pela coluna \"released_year\"\n",
    "df_ordenado_por_ano = df_filmes.sort_values(by='released_year')\n",
    "\n",
    "# Contando a quantidade de filmes por ano\n",
    "contagem_por_ano = df_filmes['release_year'].value_counts()\n",
    "print(contagem_por_ano)\n",
    "\n",
    "# Obtendo os anos únicos dos filmes\n",
    "anos_unicos = df_filmes['release_year'].unique()\n",
    "print(anos_unicos)\n",
    "\n",
    "# Verificando as primeiras linhas do DataFrame para garantir que os dados foram carregados corretamente\n",
    "print(df_filmes.head())\n",
    "\n",
    "# Gerando uma lista com os países dos filmes\n",
    "lista_paises = df_filmes['country'].value_counts()\n",
    "\n",
    "# Exibindo a lista de países\n",
    "print(lista_paises)\n",
    "\n",
    "# Contagem de ocorrências para a coluna 'country'\n",
    "contagem_paises = df_filmes['country'].value_counts()\n",
    "\n",
    "# Contagem de ocorrências para a coluna 'rating'\n",
    "contagem_classificacao = df_filmes['rating'].value_counts()\n",
    "\n",
    "# Exibindo as contagens de ocorrências\n",
    "print(\"Contagem de países:\")\n",
    "print(contagem_paises)\n",
    "\n",
    "print(\"\\nContagem de classificação de idade:\")\n",
    "print(contagem_classificacao)\n",
    "\n",
    "# Criando novas colunas com o quarto e décimo caractere do campo \"Director\"\n",
    "df_filmes['quarto_caractere'] = df_filmes['Director'].apply(lambda x: x[3] if len(x) > 3 else None)\n",
    "df_filmes['decimo_caractere'] = df_filmes['Director'].apply(lambda x: x[9] if len(x) > 9 else None)\n",
    "\n",
    "# Exibindo as primeiras linhas do DataFrame para verificar as novas colunas\n",
    "print(df_filmes.head())\n",
    "\n",
    "# Aplicando a função a cada linha do DataFrame\n",
    "df_filmes['tamanho_do_nome_do_diretor'] = df_filmes['Director'].apply(contar_caracteres)\n",
    "\n",
    "# Exibindo as primeiras linhas do DataFrame para verificar a nova coluna\n",
    "print(df_filmes.head())\n",
    "\n",
    "# Exibindo as primeiras linhas dos DataFrames ordenados\n",
    "print(\"Ordenado por data_added:\")\n",
    "print(df_ordenado_por_data.head())\n",
    "\n",
    "print(\"\\nOrdenado por released_year:\")\n",
    "print(df_ordenado_por_ano.head())\n",
    "\n"
   ]
  }
 ],
 "metadata": {
  "language_info": {
   "name": "python"
  }
 },
 "nbformat": 4,
 "nbformat_minor": 2
}
